{
 "cells": [
  {
   "cell_type": "code",
   "execution_count": 18,
   "metadata": {
    "collapsed": true
   },
   "outputs": [],
   "source": [
    "# To support both python 2 and python 3\n",
    "from __future__ import division, print_function, unicode_literals\n",
    "\n",
    "import math"
   ]
  },
  {
   "cell_type": "code",
   "execution_count": 19,
   "metadata": {},
   "outputs": [
    {
     "name": "stdout",
     "output_type": "stream",
     "text": [
      "56000\n"
     ]
    }
   ],
   "source": [
    "l = [5554, 6296, 5590, 5707, 5496, 5027, 5469, 5817, 5434, 5610]\n",
    "print (sum(l))"
   ]
  },
  {
   "cell_type": "code",
   "execution_count": 20,
   "metadata": {},
   "outputs": [
    {
     "name": "stdout",
     "output_type": "stream",
     "text": [
      "0.8997037206632652\n"
     ]
    }
   ],
   "source": [
    "Fi = [f/sum(l) for f in l]\n",
    "Gini = sum([f*(1-f) for f in Fi])\n",
    "print (Gini)"
   ]
  },
  {
   "cell_type": "markdown",
   "metadata": {},
   "source": [
    "# Gini2"
   ]
  },
  {
   "cell_type": "code",
   "execution_count": 22,
   "metadata": {},
   "outputs": [
    {
     "name": "stdout",
     "output_type": "stream",
     "text": [
      "36127\n",
      "0.8804541791208823\n"
     ]
    }
   ],
   "source": [
    "Left = [5013, 541, 4435, 1153, 5006, 2965, 4393, 5342, 2795, 4484]\n",
    "print (sum(Left))\n",
    "Fi = [f/sum(Left) for f in Left]\n",
    "LeftGini = sum([f*(1-f) for f in Fi])\n",
    "print (LeftGini)"
   ]
  },
  {
   "cell_type": "code",
   "execution_count": 23,
   "metadata": {},
   "outputs": [
    {
     "name": "stdout",
     "output_type": "stream",
     "text": [
      "19783\n",
      "0.8224073741673256\n"
     ]
    }
   ],
   "source": [
    "Right = [451, 5755, 1155, 4554, 490, 2062, 1076, 475, 2639, 1126]\n",
    "print (sum(Right))\n",
    "Fi = [f/sum(Right) for f in Right]\n",
    "RightGini = sum([f*(1-f) for f in Fi])\n",
    "print (RightGini)"
   ]
  },
  {
   "cell_type": "code",
   "execution_count": 26,
   "metadata": {},
   "outputs": [
    {
     "name": "stdout",
     "output_type": "stream",
     "text": [
      "0.8585330930759342\n",
      "Information Gain =  0.04117062758733103\n",
      "0.8997037206632652\n"
     ]
    }
   ],
   "source": [
    "SplitGini = LeftGini*(sum(Left)/sum(l))+RightGini*(sum(Right)/sum(l))\n",
    "print (SplitGini)\n",
    "print(\"Information Gain = \", Gini - SplitGini)\n",
    "print (Gini)"
   ]
  },
  {
   "cell_type": "code",
   "execution_count": null,
   "metadata": {
    "collapsed": true
   },
   "outputs": [],
   "source": []
  }
 ],
 "metadata": {
  "kernelspec": {
   "display_name": "Python 3",
   "language": "python",
   "name": "python3"
  },
  "language_info": {
   "codemirror_mode": {
    "name": "ipython",
    "version": 3
   },
   "file_extension": ".py",
   "mimetype": "text/x-python",
   "name": "python",
   "nbconvert_exporter": "python",
   "pygments_lexer": "ipython3",
   "version": "3.6.3"
  }
 },
 "nbformat": 4,
 "nbformat_minor": 2
}
